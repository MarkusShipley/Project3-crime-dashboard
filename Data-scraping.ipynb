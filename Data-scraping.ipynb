{
 "cells": [
  {
   "cell_type": "code",
   "execution_count": 2,
   "id": "c036c51b",
   "metadata": {},
   "outputs": [],
   "source": [
    "from splinter import Browser\n",
    "from bs4 import BeautifulSoup\n",
    "from webdriver_manager.chrome import ChromeDriverManager\n",
    "import pandas as pd\n",
    "import ssl\n",
    "import certifi\n",
    "from urllib import request as req\n",
    "\n",
    "import requests"
   ]
  },
  {
   "cell_type": "code",
   "execution_count": 13,
   "id": "9843de98",
   "metadata": {},
   "outputs": [],
   "source": [
    "#in case the last line of code doesn't work : uncomment this code\n",
    "#ssl._create_default_https_context = ssl._create_unverified_context"
   ]
  },
  {
   "cell_type": "code",
   "execution_count": 7,
   "id": "0b913972",
   "metadata": {},
   "outputs": [
    {
     "name": "stderr",
     "output_type": "stream",
     "text": [
      "\n",
      "\n",
      "====== WebDriver manager ======\n",
      "Could not get version for google-chrome with the command:  powershell \"$ErrorActionPreference='silentlycontinue' ; (Get-Item -Path \"$env:PROGRAMFILES\\Google\\Chrome\\Application\\chrome.exe\").VersionInfo.FileVersion ; if (-not $? -or $? -match $error) { (Get-Item -Path \"$env:PROGRAMFILES(x86)\\Google\\Chrome\\Application\\chrome.exe\").VersionInfo.FileVersion } if (-not $? -or $? -match $error) { (Get-Item -Path \"$env:LOCALAPPDATA\\Google\\Chrome\\Application\\chrome.exe\").VersionInfo.FileVersion } if (-not $? -or $? -match $error) { reg query \"HKCU\\SOFTWARE\\Google\\Chrome\\BLBeacon\" /v version } if (-not $? -or $? -match $error) { reg query \"HKLM\\SOFTWARE\\Wow6432Node\\Microsoft\\Windows\\CurrentVersion\\Uninstall\\Google Chrome\" /v version }\"\n",
      "Current google-chrome version is UNKNOWN\n",
      "Get LATEST chromedriver version for UNKNOWN google-chrome\n",
      "Trying to download new driver from https://chromedriver.storage.googleapis.com/100.0.4896.60/chromedriver_win32.zip\n",
      "Driver has been saved in cache [C:\\Users\\Lales\\.wdm\\drivers\\chromedriver\\win32\\100.0.4896.60]\n"
     ]
    }
   ],
   "source": [
    "# Setup splinter\n",
    "executable_path = {'executable_path': ChromeDriverManager().install()}\n",
    "browser = Browser('chrome', **executable_path, headless=False)"
   ]
  },
  {
   "cell_type": "code",
   "execution_count": 8,
   "id": "caa3cb0b",
   "metadata": {},
   "outputs": [],
   "source": [
    "url = 'https://www.atlantapd.org/i-want-to/crime-data-downloads'\n",
    "browser.visit(url)"
   ]
  },
  {
   "cell_type": "code",
   "execution_count": 9,
   "id": "5b84d371",
   "metadata": {},
   "outputs": [],
   "source": [
    "html = browser.html\n",
    "soup = BeautifulSoup(html, 'html.parser')"
   ]
  },
  {
   "cell_type": "code",
   "execution_count": 10,
   "id": "9a26db47",
   "metadata": {},
   "outputs": [],
   "source": [
    "quotes = soup.find_all('div', id='widget_362_0_197')"
   ]
  },
  {
   "cell_type": "code",
   "execution_count": 11,
   "id": "18a8ecb4",
   "metadata": {},
   "outputs": [],
   "source": [
    "lis=quotes[0].find_all('li')\n",
    "Download_url=[]\n",
    "for li in lis:\n",
    "    link=li.find(\"a\")\n",
    "    href=link[\"href\"]\n",
    "    Download_url.append(\"https://www.atlantapd.org\"+href)"
   ]
  },
  {
   "cell_type": "code",
   "execution_count": 12,
   "id": "1adf9228",
   "metadata": {},
   "outputs": [
    {
     "data": {
      "text/plain": [
       "['https://www.atlantapd.org/home/showpublisheddocument/4730/637843168152670000',\n",
       " 'https://www.atlantapd.org/home/showpublisheddocument/4576/637770569750770000',\n",
       " 'https://www.atlantapd.org/home/showpublisheddocument/3705/637460445573930000',\n",
       " 'https://www.atlantapd.org/home/showpublisheddocument/3587/637418951324270000',\n",
       " 'https://www.atlantapd.org/home/showpublisheddocument/3051/637141450644130000']"
      ]
     },
     "execution_count": 12,
     "metadata": {},
     "output_type": "execute_result"
    }
   ],
   "source": [
    "Download_url"
   ]
  },
  {
   "cell_type": "code",
   "execution_count": 15,
   "id": "224338c8",
   "metadata": {},
   "outputs": [],
   "source": [
    "for i in range(len(Download_url)):\n",
    "    try:\n",
    "        local_file = f'Resources/cobra{i}.zip'\n",
    "        req.urlretrieve(Download_url[i], local_file)\n",
    "    except:\n",
    "        print(\"something is wrong :( \")\n",
    "    "
   ]
  },
  {
   "cell_type": "code",
   "execution_count": null,
   "id": "f8feeb0c",
   "metadata": {},
   "outputs": [],
   "source": []
  }
 ],
 "metadata": {
  "kernelspec": {
   "display_name": "Python 3",
   "language": "python",
   "name": "python3"
  },
  "language_info": {
   "codemirror_mode": {
    "name": "ipython",
    "version": 3
   },
   "file_extension": ".py",
   "mimetype": "text/x-python",
   "name": "python",
   "nbconvert_exporter": "python",
   "pygments_lexer": "ipython3",
   "version": "3.7.6"
  }
 },
 "nbformat": 4,
 "nbformat_minor": 5
}
